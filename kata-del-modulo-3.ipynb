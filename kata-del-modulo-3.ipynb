{
 "cells": [
  {
   "cell_type": "code",
   "execution_count": 1,
   "metadata": {},
   "outputs": [],
   "source": []
  },
  {
   "cell_type": "markdown",
   "metadata": {},
   "source": [
    "# Añadir el código necesario para crear una variable que guarde la velocidad del asteroide.\n",
    "# Escribe una expresión de prueba para calcular si necesita una advertencia.\n",
    "# Agregue las instrucciones que se ejecutarán si la expresión de prueba es true o false."
   ]
  },
  {
   "cell_type": "code",
   "execution_count": 1,
   "metadata": {},
   "outputs": [
    {
     "name": "stdout",
     "output_type": "stream",
     "text": [
      "El asteroide se acerca a la Tierra demasiado rápido\n"
     ]
    }
   ],
   "source": [
    "veas = 49\n",
    "sol = 25\n",
    "\n",
    "if veas > sol:\n",
    "    print('El asteroide se acerca a la Tierra demasiado rápido')\n",
    "else:\n",
    "    print('El asteroide no se acerca a la Tierra')\n"
   ]
  },
  {
   "cell_type": "markdown",
   "metadata": {},
   "source": [
    "# Agrega el código para crear una variable para un asteroide que viaja a 19 km/s\n",
    "# Escribe varias expresiones de prueba para determinar si puedes ver el rayo de luz desde la tierra\n",
    "# Agrega las instrucciones que se ejecutarán si las expresiones de prueba son True o False"
   ]
  },
  {
   "cell_type": "code",
   "execution_count": 2,
   "metadata": {},
   "outputs": [
    {
     "name": "stdout",
     "output_type": "stream",
     "text": [
      "No se ve nada\n"
     ]
    }
   ],
   "source": [
    "veas = 19\n",
    "\n",
    "if veas > 25:\n",
    "    print('Se ve una luz en el cielo')\n",
    "elif veas == 20:\n",
    "    print('Se ve una luz en el cielo')\n",
    "else:\n",
    "    print('No se ve nada')\n",
    "\n"
   ]
  },
  {
   "cell_type": "markdown",
   "metadata": {},
   "source": [
    "# Agrega el código para crear nuevas variables para la velocidad y el tamaño del asteroide\n",
    "# Para probar el código, prueba con varias velocidades y tamaños\n",
    "# Escribe varias expresiones de prueba o combinaciones de expresiones de prueba para determinar qué mensaje s"
   ]
  },
  {
   "cell_type": "code",
   "execution_count": 5,
   "metadata": {},
   "outputs": [
    {
     "name": "stdout",
     "output_type": "stream",
     "text": [
      "Se ve una luz en el cielo\n"
     ]
    }
   ],
   "source": [
    "vel_asteroide = 25\n",
    "tam_asteroide = 40\n",
    "\n",
    "if vel_asteroide > 25 and tam_asteroide > 25:\n",
    "    print('El asteroide se dirije a la tierra')\n",
    "elif vel_asteroide >= 20:\n",
    "    print('Se ve una luz en el cielo')\n",
    "elif tam_asteroide < 25:\n",
    "    print('No se ve nada')\n",
    "else:\n",
    "    print('No se ve nada')"
   ]
  }
 ],
 "metadata": {
  "interpreter": {
   "hash": "ccbb86a827c0a2e36850a7f20cc574c87487d7dfe72cecd5fde5681cc575ef9d"
  },
  "kernelspec": {
   "display_name": "Python 3.10.2 64-bit",
   "language": "python",
   "name": "python3"
  },
  "language_info": {
   "codemirror_mode": {
    "name": "ipython",
    "version": 3
   },
   "file_extension": ".py",
   "mimetype": "text/x-python",
   "name": "python",
   "nbconvert_exporter": "python",
   "pygments_lexer": "ipython3",
   "version": "3.10.2"
  },
  "orig_nbformat": 4
 },
 "nbformat": 4,
 "nbformat_minor": 2
}
