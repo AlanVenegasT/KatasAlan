{
 "cells": [
  {
   "cell_type": "code",
   "execution_count": 6,
   "metadata": {},
   "outputs": [
    {
     "name": "stdout",
     "output_type": "stream",
     "text": [
      "Reporte:\n",
      "    promedio: 78.33333333333333%\n",
      "    tank 1: 80%\n",
      "    tank 2: 70%\n",
      "    tank 3: 85% \n",
      "    \n",
      "Informe del combustible:\n",
      "    Promedio: 78.0%\n",
      "    tank_1: 88%\n",
      "    tank_2: 76%\n",
      "    tank_3: 70% \n",
      "    \n"
     ]
    }
   ],
   "source": [
    "# Función para leer 3 tanques de combustible y muestre el promedio\n",
    "\n",
    "def generate_report(tank_1, tank_2, tank_3):\n",
    "    promedio = (tank_1 + tank_2 + tank_3) / 3\n",
    "    return f\"\"\"Reporte:\n",
    "    promedio: {promedio}%\n",
    "    tank 1: {tank_1}%\n",
    "    tank 2: {tank_2}%\n",
    "    tank 3: {tank_3}% \n",
    "    \"\"\"\n",
    "\n",
    "#Llamamos a la función que genera el reporte print(funcion(tanque1, tanque2, tanque3))\n",
    "print(generate_report(80, 70, 85))\n",
    "# Función promedio \n",
    "def average(values):\n",
    "    total = sum(values)\n",
    "    number_of_items = len(values)\n",
    "    return total / number_of_items\n",
    "\n",
    "# Test the averaging function with a list of integers:\n",
    "average([80, 85, 81]) \n",
    "# Actualiza la función\n",
    "def generate_report(tank_1, tank_2, tank_3):\n",
    "    return f\"\"\"Informe del combustible:\n",
    "    Promedio: {average([tank_1, tank_2, tank_3])}%\n",
    "    tank_1: {tank_1}%\n",
    "    tank_2: {tank_2}%\n",
    "    tank_3: {tank_3}% \n",
    "    \"\"\"\n",
    "\n",
    "# Call the updated function again with different values\n",
    "print(generate_report(88, 76, 70))"
   ]
  },
  {
   "cell_type": "code",
   "execution_count": 10,
   "metadata": {},
   "outputs": [
    {
     "name": "stdout",
     "output_type": "stream",
     "text": [
      "\n",
      "    Mision a Moon\n",
      "    Total de tiempo del vuelo: 65 minutos\n",
      "    Combustible toral restante: 500000 galones\n",
      "    \n",
      "\n",
      "    Mission to Moon\n",
      "    Total de tiempo del vuelo: 76 minutos\n",
      "    Combustible toral restante: 500000\n",
      "    \n",
      "\n",
      "    Mission to Moon\n",
      "    Total de tiempo del vuelo 74 minutos\n",
      "    Combustible toral restante 500000\n",
      "    main tank --> 300000 galones izquierdo\n",
      "external tank --> 200000 galones izquierdo\n",
      "\n"
     ]
    }
   ],
   "source": [
    "# Función con un informe preciso de la misión. Considera hora de prelanzamiento, tiempo de vuelo, destino, tanque externo y tanque interno\n",
    "\n",
    "def mission_report(pre_launch_time, flight_time, destination, external_tank, main_tank):\n",
    "    return f\"\"\"\n",
    "    Mision a {destination}\n",
    "    Total de tiempo del vuelo: {pre_launch_time + flight_time} minutos\n",
    "    Combustible toral restante: {external_tank + main_tank} galones\n",
    "    \"\"\"\n",
    "\n",
    "print(mission_report(14, 51, \"Moon\", 200000, 300000))\n",
    "# Escribe tu nueva función de reporte considerando lo anterior\n",
    "\n",
    "def mission_report(destination, *minutes, **fuel_reservoirs):\n",
    "    return f\"\"\"\n",
    "    Mission to {destination}\n",
    "    Total de tiempo del vuelo: {sum(minutes)} minutos\n",
    "    Combustible toral restante: {sum(fuel_reservoirs.values())}\n",
    "    \"\"\"\n",
    "\n",
    "print(mission_report(\"Moon\", 10, 15, 51, main=300000, external=200000))\n",
    "# Escribe tu nueva función\n",
    "\n",
    "def mission_report(destination, *minutes, **fuel_reservoirs):\n",
    "    main_report = f\"\"\"\n",
    "    Mission to {destination}\n",
    "    Total de tiempo del vuelo {sum(minutes)} minutos\n",
    "    Combustible toral restante {sum(fuel_reservoirs.values())}\n",
    "    \"\"\"\n",
    "    for tank_name, gallons in fuel_reservoirs.items():\n",
    "        main_report += f\"{tank_name} tank --> {gallons} galones izquierdo\\n\"\n",
    "    return main_report\n",
    "\n",
    "print(mission_report(\"Moon\", 8, 11, 55, main=300000, external=200000))"
   ]
  },
  {
   "cell_type": "code",
   "execution_count": null,
   "metadata": {},
   "outputs": [],
   "source": []
  }
 ],
 "metadata": {
  "interpreter": {
   "hash": "ccbb86a827c0a2e36850a7f20cc574c87487d7dfe72cecd5fde5681cc575ef9d"
  },
  "kernelspec": {
   "display_name": "Python 3.10.2 64-bit",
   "language": "python",
   "name": "python3"
  },
  "language_info": {
   "codemirror_mode": {
    "name": "ipython",
    "version": 3
   },
   "file_extension": ".py",
   "mimetype": "text/x-python",
   "name": "python",
   "nbconvert_exporter": "python",
   "pygments_lexer": "ipython3",
   "version": "3.10.2"
  },
  "orig_nbformat": 4
 },
 "nbformat": 4,
 "nbformat_minor": 2
}
