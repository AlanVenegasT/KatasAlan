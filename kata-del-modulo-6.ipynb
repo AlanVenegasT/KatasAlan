{
 "cells": [
  {
   "cell_type": "code",
   "execution_count": 3,
   "metadata": {},
   "outputs": [
    {
     "name": "stdout",
     "output_type": "stream",
     "text": [
      "Son 8 planetas\n",
      "Pluto ultimo planeta\n"
     ]
    }
   ],
   "source": [
    "# Creamos la lista planets y la mostramos\n",
    "\n",
    "planets = ['Mercurio','Venus', 'Tierra', 'Marte', 'Jupiter','Saturno','Urano','Neptuno']\n",
    "print('Son', len(planets), 'planetas')\n",
    "\n",
    "# Agregamos a plutón y mostramos el último elemento\n",
    "\n",
    "planets.append('Pluto')\n",
    "\n",
    "print(planets[-1], 'ultimo planeta')\n",
    "\n"
   ]
  },
  {
   "cell_type": "code",
   "execution_count": 4,
   "metadata": {},
   "outputs": [
    {
     "name": "stdout",
     "output_type": "stream",
     "text": [
      "Planetas mas cercanos Venus\n",
      "['Mercury']\n",
      "Planetas mas lejanos Venus\n",
      "['Earth', 'Mars', 'Jupiter', 'Saturn', 'Neptune']\n"
     ]
    }
   ],
   "source": [
    "# Lista de planetas\n",
    "planets = ['Mercury', 'Venus', 'Earth', 'Mars', 'Jupiter', 'Saturn', 'Neptune']\n",
    "\n",
    "# Solicitamos el nombre de un planeta *Pista:  input()*\n",
    "nombrep = input('Ingresa el nombre del planeta (Con una letra mayuscula al inicio)')\n",
    "\n",
    "# Busca el planeta en la lista\n",
    "indicep = planets.index(nombrep)\n",
    "\n",
    "# Muestra los planetas más cercanos al sol\n",
    "print('Planetas mas cercanos ' + nombrep)\n",
    "print(planets[0:indicep])\n",
    "\n",
    "# Muestra los planetas más lejanos al sol\n",
    "print('Planetas mas lejanos ' + nombrep)\n",
    "print(planets[indicep + 1:])\n",
    "\n",
    "\n"
   ]
  }
 ],
 "metadata": {
  "interpreter": {
   "hash": "ccbb86a827c0a2e36850a7f20cc574c87487d7dfe72cecd5fde5681cc575ef9d"
  },
  "kernelspec": {
   "display_name": "Python 3.10.2 64-bit",
   "language": "python",
   "name": "python3"
  },
  "language_info": {
   "codemirror_mode": {
    "name": "ipython",
    "version": 3
   },
   "file_extension": ".py",
   "mimetype": "text/x-python",
   "name": "python",
   "nbconvert_exporter": "python",
   "pygments_lexer": "ipython3",
   "version": "3.10.2"
  },
  "orig_nbformat": 4
 },
 "nbformat": 4,
 "nbformat_minor": 2
}
